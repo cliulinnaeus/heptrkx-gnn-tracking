{
 "cells": [
  {
   "cell_type": "code",
   "execution_count": 1,
   "metadata": {},
   "outputs": [],
   "source": [
    "import numpy as np"
   ]
  },
  {
   "cell_type": "code",
   "execution_count": 2,
   "metadata": {},
   "outputs": [],
   "source": [
    "def get_hit_pos(relation):\n",
    "    print(relation.shape)\n",
    "    if len(relation.shape) == 3:\n",
    "        res = []\n",
    "        for ib in range(relation.shape[0]):\n",
    "            one_res = [\n",
    "                relation[ib, :, ic].nonzero()[0][0]\n",
    "                for ic in range(relation.shape[2])\n",
    "            ]\n",
    "            res.append(one_res)\n",
    "    else:\n",
    "        res = [\n",
    "            relation[:, ic].nonzero()[0][0]\n",
    "            for ic in range(relation.shape[1])\n",
    "        ]\n",
    "    return np.array(res, dtype=np.long)"
   ]
  },
  {
   "cell_type": "markdown",
   "metadata": {},
   "source": [
    "## Prepare dummy data"
   ]
  },
  {
   "cell_type": "code",
   "execution_count": 3,
   "metadata": {},
   "outputs": [
    {
     "name": "stdout",
     "output_type": "stream",
     "text": [
      "(5, 7)\n",
      "(2, 5, 7)\n"
     ]
    }
   ],
   "source": [
    "Ri = np.array([\n",
    "    [1, 1, 0, 0, 0, 1, 0],\n",
    "    [0, 0, 1, 1, 0, 0, 0],\n",
    "    [0, 0, 0, 0, 1, 0, 1],\n",
    "    [0, 0, 0, 0, 0, 0, 0],\n",
    "    [0, 0, 0, 0, 0, 0, 0]], dtype=np.float32\n",
    ")\n",
    "print(Ri.shape)\n",
    "Ri= Ri[None, :]\n",
    "Ri_b = np.tile(Ri, (2, 1, 1))\n",
    "print(Ri_b.shape)"
   ]
  },
  {
   "cell_type": "code",
   "execution_count": 4,
   "metadata": {},
   "outputs": [
    {
     "name": "stdout",
     "output_type": "stream",
     "text": [
      "(5, 7)\n",
      "(2, 5, 7)\n"
     ]
    }
   ],
   "source": [
    "Ro = np.array([\n",
    "    [0, 0, 0, 0, 0, 0, 0],\n",
    "    [1, 0, 0, 0, 0, 0, 0],\n",
    "    [0, 1, 0, 0, 0, 0, 0],\n",
    "    [0, 0, 1, 0, 1, 1, 0],\n",
    "    [0, 0, 0, 1, 0, 0, 1]\n",
    "], dtype=np.float32)\n",
    "print(Ro.shape)\n",
    "Ro = Ro[None, :]\n",
    "Ro_b = np.tile(Ro, (2, 1, 1))\n",
    "print(Ro_b.shape)"
   ]
  },
  {
   "cell_type": "code",
   "execution_count": 5,
   "metadata": {},
   "outputs": [
    {
     "name": "stdout",
     "output_type": "stream",
     "text": [
      "(2, 5, 3)\n"
     ]
    }
   ],
   "source": [
    "X = np.array([\n",
    "    [0, 0.1, 0],\n",
    "    [1, 0.2, 1],\n",
    "    [1, 0.3, 1],\n",
    "    [2, 0.2, 2],\n",
    "    [2, 0.3, 2]\n",
    "], dtype=np.float32)\n",
    "X = X[None, :]\n",
    "X_b = np.tile(X, (2, 1, 1))\n",
    "print(X_b.shape)"
   ]
  },
  {
   "cell_type": "code",
   "execution_count": 6,
   "metadata": {},
   "outputs": [
    {
     "name": "stdout",
     "output_type": "stream",
     "text": [
      "(2, 7)\n"
     ]
    }
   ],
   "source": [
    "E = np.array([\n",
    "    0.1, 0.2, 0.3, 0.4, 0.5, 0.6, 0.7\n",
    "], dtype=np.float32)\n",
    "E = E[None, :]\n",
    "E_b = np.tile(E, (2, 1))\n",
    "print(E_b.shape)"
   ]
  },
  {
   "cell_type": "code",
   "execution_count": 7,
   "metadata": {},
   "outputs": [],
   "source": [
    "n_features = 3\n",
    "n_edges = 7\n",
    "n_hits = 5\n",
    "n_batch = 2"
   ]
  },
  {
   "cell_type": "markdown",
   "metadata": {},
   "source": [
    "## Check EdgeNetWork"
   ]
  },
  {
   "cell_type": "code",
   "execution_count": 8,
   "metadata": {},
   "outputs": [
    {
     "name": "stdout",
     "output_type": "stream",
     "text": [
      "1.0.0a0+0b862fa\n"
     ]
    }
   ],
   "source": [
    "import torch\n",
    "print(torch.__version__)"
   ]
  },
  {
   "cell_type": "code",
   "execution_count": 9,
   "metadata": {},
   "outputs": [],
   "source": [
    "Ro_t = torch.tensor(Ro_b)\n",
    "Ri_t = torch.tensor(Ri_b)\n",
    "X_t  = torch.tensor(X_b)\n",
    "E_t  = torch.tensor(E_b)"
   ]
  },
  {
   "cell_type": "code",
   "execution_count": 10,
   "metadata": {},
   "outputs": [
    {
     "name": "stdout",
     "output_type": "stream",
     "text": [
      "(2, 5, 7)\n",
      "(2, 5, 7)\n"
     ]
    }
   ],
   "source": [
    "Ro_pos_t = torch.from_numpy(get_hit_pos(Ro_t.numpy()))\n",
    "Ri_pos_t = torch.from_numpy(get_hit_pos(Ri_t.numpy()))"
   ]
  },
  {
   "cell_type": "code",
   "execution_count": 11,
   "metadata": {},
   "outputs": [
    {
     "name": "stdout",
     "output_type": "stream",
     "text": [
      "torch.Size([2, 7, 3])\n",
      "tensor([[[1.0000, 0.2000, 1.0000],\n",
      "         [1.0000, 0.3000, 1.0000],\n",
      "         [2.0000, 0.2000, 2.0000],\n",
      "         [2.0000, 0.3000, 2.0000],\n",
      "         [2.0000, 0.2000, 2.0000],\n",
      "         [2.0000, 0.2000, 2.0000],\n",
      "         [2.0000, 0.3000, 2.0000]],\n",
      "\n",
      "        [[1.0000, 0.2000, 1.0000],\n",
      "         [1.0000, 0.3000, 1.0000],\n",
      "         [2.0000, 0.2000, 2.0000],\n",
      "         [2.0000, 0.3000, 2.0000],\n",
      "         [2.0000, 0.2000, 2.0000],\n",
      "         [2.0000, 0.2000, 2.0000],\n",
      "         [2.0000, 0.3000, 2.0000]]])\n"
     ]
    }
   ],
   "source": [
    "bo1 = torch.bmm(Ro_t.transpose(1, 2,), X_t)\n",
    "print(bo1.size())\n",
    "print(bo1)"
   ]
  },
  {
   "cell_type": "code",
   "execution_count": 12,
   "metadata": {},
   "outputs": [
    {
     "name": "stdout",
     "output_type": "stream",
     "text": [
      "torch.Size([2, 7, 3])\n",
      "tensor([[[1.0000, 0.2000, 1.0000],\n",
      "         [1.0000, 0.3000, 1.0000],\n",
      "         [2.0000, 0.2000, 2.0000],\n",
      "         [2.0000, 0.3000, 2.0000],\n",
      "         [2.0000, 0.2000, 2.0000],\n",
      "         [2.0000, 0.2000, 2.0000],\n",
      "         [2.0000, 0.3000, 2.0000]],\n",
      "\n",
      "        [[1.0000, 0.2000, 1.0000],\n",
      "         [1.0000, 0.3000, 1.0000],\n",
      "         [2.0000, 0.2000, 2.0000],\n",
      "         [2.0000, 0.3000, 2.0000],\n",
      "         [2.0000, 0.2000, 2.0000],\n",
      "         [2.0000, 0.2000, 2.0000],\n",
      "         [2.0000, 0.3000, 2.0000]]])\n"
     ]
    }
   ],
   "source": [
    "x1 = X_t.reshape(-1, n_features)\n",
    "bo2 = x1[Ro_pos_t.long().flatten()].reshape(n_batch, -1, n_features)\n",
    "print(bo2.size())\n",
    "print(bo2)"
   ]
  },
  {
   "cell_type": "markdown",
   "metadata": {},
   "source": [
    "## Now check the NodeNetWork"
   ]
  },
  {
   "cell_type": "code",
   "execution_count": 13,
   "metadata": {},
   "outputs": [
    {
     "name": "stdout",
     "output_type": "stream",
     "text": [
      "torch.Size([2, 5, 7])\n",
      "tensor([[[0.1000, 0.2000, 0.3000, 0.4000, 0.5000, 0.6000, 0.7000],\n",
      "         [0.1000, 0.2000, 0.3000, 0.4000, 0.5000, 0.6000, 0.7000],\n",
      "         [0.1000, 0.2000, 0.3000, 0.4000, 0.5000, 0.6000, 0.7000],\n",
      "         [0.1000, 0.2000, 0.3000, 0.4000, 0.5000, 0.6000, 0.7000],\n",
      "         [0.1000, 0.2000, 0.3000, 0.4000, 0.5000, 0.6000, 0.7000]],\n",
      "\n",
      "        [[0.1000, 0.2000, 0.3000, 0.4000, 0.5000, 0.6000, 0.7000],\n",
      "         [0.1000, 0.2000, 0.3000, 0.4000, 0.5000, 0.6000, 0.7000],\n",
      "         [0.1000, 0.2000, 0.3000, 0.4000, 0.5000, 0.6000, 0.7000],\n",
      "         [0.1000, 0.2000, 0.3000, 0.4000, 0.5000, 0.6000, 0.7000],\n",
      "         [0.1000, 0.2000, 0.3000, 0.4000, 0.5000, 0.6000, 0.7000]]])\n"
     ]
    }
   ],
   "source": [
    "e_ex = E_t[:, None].repeat(1, n_hits, 1)\n",
    "print(e_ex.size())\n",
    "print(e_ex)"
   ]
  },
  {
   "cell_type": "code",
   "execution_count": 14,
   "metadata": {},
   "outputs": [
    {
     "name": "stdout",
     "output_type": "stream",
     "text": [
      "torch.Size([2, 5, 7])\n",
      "tensor([[[0.1000, 0.2000, 0.0000, 0.0000, 0.0000, 0.6000, 0.0000],\n",
      "         [0.0000, 0.0000, 0.3000, 0.4000, 0.0000, 0.0000, 0.0000],\n",
      "         [0.0000, 0.0000, 0.0000, 0.0000, 0.5000, 0.0000, 0.7000],\n",
      "         [0.0000, 0.0000, 0.0000, 0.0000, 0.0000, 0.0000, 0.0000],\n",
      "         [0.0000, 0.0000, 0.0000, 0.0000, 0.0000, 0.0000, 0.0000]],\n",
      "\n",
      "        [[0.1000, 0.2000, 0.0000, 0.0000, 0.0000, 0.6000, 0.0000],\n",
      "         [0.0000, 0.0000, 0.3000, 0.4000, 0.0000, 0.0000, 0.0000],\n",
      "         [0.0000, 0.0000, 0.0000, 0.0000, 0.5000, 0.0000, 0.7000],\n",
      "         [0.0000, 0.0000, 0.0000, 0.0000, 0.0000, 0.0000, 0.0000],\n",
      "         [0.0000, 0.0000, 0.0000, 0.0000, 0.0000, 0.0000, 0.0000]]])\n"
     ]
    }
   ],
   "source": [
    "Rwi1 = Ri_t * E_t[:, None]\n",
    "print(Rwi1.size())\n",
    "print(Rwi1)"
   ]
  },
  {
   "cell_type": "code",
   "execution_count": 37,
   "metadata": {},
   "outputs": [
    {
     "data": {
      "text/plain": [
       "tensor([[0, 0, 1, 1, 2, 0, 2],\n",
       "        [0, 0, 1, 1, 2, 0, 2]])"
      ]
     },
     "execution_count": 37,
     "metadata": {},
     "output_type": "execute_result"
    }
   ],
   "source": [
    "Ri_pos_t"
   ]
  },
  {
   "cell_type": "code",
   "execution_count": 15,
   "metadata": {},
   "outputs": [
    {
     "name": "stdout",
     "output_type": "stream",
     "text": [
      "torch.Size([2, 5, 3])\n",
      "tensor([[[1.5000, 0.2000, 1.5000],\n",
      "         [1.4000, 0.1800, 1.4000],\n",
      "         [2.4000, 0.3100, 2.4000],\n",
      "         [0.0000, 0.0000, 0.0000],\n",
      "         [0.0000, 0.0000, 0.0000]],\n",
      "\n",
      "        [[1.5000, 0.2000, 1.5000],\n",
      "         [1.4000, 0.1800, 1.4000],\n",
      "         [2.4000, 0.3100, 2.4000],\n",
      "         [0.0000, 0.0000, 0.0000],\n",
      "         [0.0000, 0.0000, 0.0000]]])\n"
     ]
    }
   ],
   "source": [
    "mi1 = torch.bmm(Rwi1, bo1)\n",
    "print(mi1.size())\n",
    "print(mi1)"
   ]
  },
  {
   "cell_type": "code",
   "execution_count": 16,
   "metadata": {},
   "outputs": [
    {
     "name": "stdout",
     "output_type": "stream",
     "text": [
      "tensor([[[0.1000, 0.2000, 0.0000, 0.0000, 0.0000, 0.6000, 0.0000],\n",
      "         [0.0000, 0.0000, 0.3000, 0.4000, 0.0000, 0.0000, 0.0000],\n",
      "         [0.0000, 0.0000, 0.0000, 0.0000, 0.5000, 0.0000, 0.7000],\n",
      "         [0.0000, 0.0000, 0.0000, 0.0000, 0.0000, 0.0000, 0.0000],\n",
      "         [0.0000, 0.0000, 0.0000, 0.0000, 0.0000, 0.0000, 0.0000]],\n",
      "\n",
      "        [[0.1000, 0.2000, 0.0000, 0.0000, 0.0000, 0.6000, 0.0000],\n",
      "         [0.0000, 0.0000, 0.3000, 0.4000, 0.0000, 0.0000, 0.0000],\n",
      "         [0.0000, 0.0000, 0.0000, 0.0000, 0.5000, 0.0000, 0.7000],\n",
      "         [0.0000, 0.0000, 0.0000, 0.0000, 0.0000, 0.0000, 0.0000],\n",
      "         [0.0000, 0.0000, 0.0000, 0.0000, 0.0000, 0.0000, 0.0000]]])\n"
     ]
    }
   ],
   "source": [
    "new_E_t = torch.zeros(e_ex.size())\n",
    "for ib in range(n_batch):\n",
    "    for ic in range(new_E_t.shape[2]):\n",
    "        new_E_t[ib, Ri_pos_t[ib, ic] , ic] = e_ex[ib, Ri_pos_t[ib, ic] , ic]\n",
    "\n",
    "print(new_E_t)"
   ]
  },
  {
   "cell_type": "code",
   "execution_count": 39,
   "metadata": {},
   "outputs": [
    {
     "name": "stdout",
     "output_type": "stream",
     "text": [
      "tensor([[[0.1000, 0.2000, 0.0000, 0.0000, 0.0000, 0.6000, 0.0000],\n",
      "         [0.0000, 0.0000, 0.3000, 0.4000, 0.0000, 0.0000, 0.0000],\n",
      "         [0.0000, 0.0000, 0.0000, 0.0000, 0.5000, 0.0000, 0.7000],\n",
      "         [0.0000, 0.0000, 0.0000, 0.0000, 0.0000, 0.0000, 0.0000],\n",
      "         [0.0000, 0.0000, 0.0000, 0.0000, 0.0000, 0.0000, 0.0000]],\n",
      "\n",
      "        [[0.1000, 0.2000, 0.0000, 0.0000, 0.0000, 0.6000, 0.0000],\n",
      "         [0.0000, 0.0000, 0.3000, 0.4000, 0.0000, 0.0000, 0.0000],\n",
      "         [0.0000, 0.0000, 0.0000, 0.0000, 0.5000, 0.0000, 0.7000],\n",
      "         [0.0000, 0.0000, 0.0000, 0.0000, 0.0000, 0.0000, 0.0000],\n",
      "         [0.0000, 0.0000, 0.0000, 0.0000, 0.0000, 0.0000, 0.0000]]])\n"
     ]
    }
   ],
   "source": [
    "new_E_t = torch.zeros(e_ex.size())\n",
    "for ib in range(n_batch):\n",
    "    n_c = new_E_t.shape[2]\n",
    "    new_E_t[[ib]*n_c, Ri_pos_t[ib] , range(n_c)] = e_ex[[ib]*n_c, Ri_pos_t[ib] , range(n_c)]\n",
    "print(new_E_t)"
   ]
  }
 ],
 "metadata": {
  "kernelspec": {
   "display_name": "GNN",
   "language": "python",
   "name": "gnn"
  },
  "language_info": {
   "codemirror_mode": {
    "name": "ipython",
    "version": 3
   },
   "file_extension": ".py",
   "mimetype": "text/x-python",
   "name": "python",
   "nbconvert_exporter": "python",
   "pygments_lexer": "ipython3",
   "version": "3.7.2"
  }
 },
 "nbformat": 4,
 "nbformat_minor": 2
}
